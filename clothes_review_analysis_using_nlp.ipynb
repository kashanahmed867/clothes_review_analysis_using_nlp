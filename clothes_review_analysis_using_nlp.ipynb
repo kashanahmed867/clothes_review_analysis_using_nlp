{
  "nbformat": 4,
  "nbformat_minor": 0,
  "metadata": {
    "colab": {
      "name": "clothes_review_analysis_using_nlp.ipynb",
      "provenance": [],
      "collapsed_sections": []
    },
    "kernelspec": {
      "display_name": "Python 3",
      "name": "python3"
    },
    "language_info": {
      "name": "python"
    }
  },
  "cells": [
    {
      "cell_type": "code",
      "metadata": {
        "colab": {
          "base_uri": "https://localhost:8080/"
        },
        "id": "pJOmulwwMxLP",
        "outputId": "414fb1a3-9509-48f6-9cf1-580ff6384be7"
      },
      "source": [
        "import numpy as np\n",
        "import pandas as pd\n",
        "import matplotlib.pyplot as plt\n",
        "import seaborn as sns\n",
        "import nltk\n",
        "import re\n",
        "import sys\n",
        "\n",
        "from nltk.stem import PorterStemmer, WordNetLemmatizer\n",
        "from nltk import pos_tag, wordnet\n",
        "from nltk.tokenize import word_tokenize\n",
        "from nltk.corpus import stopwords\n",
        "\n",
        "from nltk.sentiment.vader import SentimentIntensityAnalyzer\n",
        "from sklearn.feature_extraction.text import CountVectorizer\n",
        "from sklearn.feature_extraction.text import TfidfTransformer\n",
        "from sklearn.model_selection import train_test_split\n",
        "from sklearn.metrics import confusion_matrix\n",
        "from sklearn.naive_bayes import MultinomialNB\n",
        "from wordcloud import WordCloud\n",
        "\n",
        "nltk.download('vader_lexicon')\n",
        "\n",
        "#Settings\n",
        "pd.options.display.float_format = '{:.2f}'.format\n",
        "np.set_printoptions(threshold=sys.maxsize)\n",
        "sns.set()\n",
        "DIMS=(10, 10)\n"
      ],
      "execution_count": 1,
      "outputs": [
        {
          "output_type": "stream",
          "name": "stdout",
          "text": [
            "[nltk_data] Downloading package vader_lexicon to /root/nltk_data...\n"
          ]
        },
        {
          "output_type": "stream",
          "name": "stderr",
          "text": [
            "/usr/local/lib/python3.7/dist-packages/nltk/twitter/__init__.py:20: UserWarning: The twython library has not been installed. Some functionality from the twitter package will not be available.\n",
            "  warnings.warn(\"The twython library has not been installed. \"\n"
          ]
        }
      ]
    },
    {
      "cell_type": "code",
      "metadata": {
        "colab": {
          "base_uri": "https://localhost:8080/"
        },
        "id": "nJ8AydbyXxti",
        "outputId": "04fbe5cf-d69b-468f-db4c-611230e8f0ab"
      },
      "source": [
        "print(\"Downloading corpora...\")    \n",
        "nltk.download('punkt')                        # Sentence Tokenizer\n",
        "nltk.download('stopwords')                    # For stopwords in all languages\n",
        "nltk.download('averaged_perceptron_tagger')   # For Sentiment analysis\n",
        "nltk.download('wordnet')                      # For Lemmas\n",
        "print(\"Downloads complete.\")"
      ],
      "execution_count": 2,
      "outputs": [
        {
          "output_type": "stream",
          "name": "stdout",
          "text": [
            "Downloading corpora...\n",
            "[nltk_data] Downloading package punkt to /root/nltk_data...\n",
            "[nltk_data]   Unzipping tokenizers/punkt.zip.\n",
            "[nltk_data] Downloading package stopwords to /root/nltk_data...\n",
            "[nltk_data]   Unzipping corpora/stopwords.zip.\n",
            "[nltk_data] Downloading package averaged_perceptron_tagger to\n",
            "[nltk_data]     /root/nltk_data...\n",
            "[nltk_data]   Unzipping taggers/averaged_perceptron_tagger.zip.\n",
            "[nltk_data] Downloading package wordnet to /root/nltk_data...\n",
            "[nltk_data]   Unzipping corpora/wordnet.zip.\n",
            "Downloads complete.\n"
          ]
        }
      ]
    },
    {
      "cell_type": "code",
      "metadata": {
        "colab": {
          "base_uri": "https://localhost:8080/",
          "height": 224
        },
        "id": "bCz6qv2DYZZL",
        "outputId": "c4c68685-ba07-44fe-d7b9-7d57742aeb64"
      },
      "source": [
        "from google.colab import drive\n",
        "drive.mount('/content/drive')\n",
        "import os\n",
        "os.chdir(\"/content/drive/My Drive/Colab Notebooks/\")\n",
        "\n",
        "reviews_df = pd.read_csv('Womens-Clothing-E-Commerce-Reviews.csv',index_col=0)\n",
        "reviews_df.head()"
      ],
      "execution_count": 3,
      "outputs": [
        {
          "output_type": "stream",
          "name": "stdout",
          "text": [
            "Mounted at /content/drive\n"
          ]
        },
        {
          "output_type": "execute_result",
          "data": {
            "text/html": [
              "<div>\n",
              "<style scoped>\n",
              "    .dataframe tbody tr th:only-of-type {\n",
              "        vertical-align: middle;\n",
              "    }\n",
              "\n",
              "    .dataframe tbody tr th {\n",
              "        vertical-align: top;\n",
              "    }\n",
              "\n",
              "    .dataframe thead th {\n",
              "        text-align: right;\n",
              "    }\n",
              "</style>\n",
              "<table border=\"1\" class=\"dataframe\">\n",
              "  <thead>\n",
              "    <tr style=\"text-align: right;\">\n",
              "      <th></th>\n",
              "      <th>Clothing ID</th>\n",
              "      <th>Age</th>\n",
              "      <th>Title</th>\n",
              "      <th>Review Text</th>\n",
              "      <th>Rating</th>\n",
              "      <th>Recommended IND</th>\n",
              "      <th>Positive Feedback Count</th>\n",
              "      <th>Division Name</th>\n",
              "      <th>Department Name</th>\n",
              "      <th>Class Name</th>\n",
              "    </tr>\n",
              "  </thead>\n",
              "  <tbody>\n",
              "    <tr>\n",
              "      <th>0</th>\n",
              "      <td>767</td>\n",
              "      <td>33</td>\n",
              "      <td>NaN</td>\n",
              "      <td>Absolutely wonderful - silky and sexy and comf...</td>\n",
              "      <td>4</td>\n",
              "      <td>1</td>\n",
              "      <td>0</td>\n",
              "      <td>Initmates</td>\n",
              "      <td>Intimate</td>\n",
              "      <td>Intimates</td>\n",
              "    </tr>\n",
              "    <tr>\n",
              "      <th>1</th>\n",
              "      <td>1080</td>\n",
              "      <td>34</td>\n",
              "      <td>NaN</td>\n",
              "      <td>Love this dress!  it's sooo pretty.  i happene...</td>\n",
              "      <td>5</td>\n",
              "      <td>1</td>\n",
              "      <td>4</td>\n",
              "      <td>General</td>\n",
              "      <td>Dresses</td>\n",
              "      <td>Dresses</td>\n",
              "    </tr>\n",
              "    <tr>\n",
              "      <th>2</th>\n",
              "      <td>1077</td>\n",
              "      <td>60</td>\n",
              "      <td>Some major design flaws</td>\n",
              "      <td>I had such high hopes for this dress and reall...</td>\n",
              "      <td>3</td>\n",
              "      <td>0</td>\n",
              "      <td>0</td>\n",
              "      <td>General</td>\n",
              "      <td>Dresses</td>\n",
              "      <td>Dresses</td>\n",
              "    </tr>\n",
              "    <tr>\n",
              "      <th>3</th>\n",
              "      <td>1049</td>\n",
              "      <td>50</td>\n",
              "      <td>My favorite buy!</td>\n",
              "      <td>I love, love, love this jumpsuit. it's fun, fl...</td>\n",
              "      <td>5</td>\n",
              "      <td>1</td>\n",
              "      <td>0</td>\n",
              "      <td>General Petite</td>\n",
              "      <td>Bottoms</td>\n",
              "      <td>Pants</td>\n",
              "    </tr>\n",
              "    <tr>\n",
              "      <th>4</th>\n",
              "      <td>847</td>\n",
              "      <td>47</td>\n",
              "      <td>Flattering shirt</td>\n",
              "      <td>This shirt is very flattering to all due to th...</td>\n",
              "      <td>5</td>\n",
              "      <td>1</td>\n",
              "      <td>6</td>\n",
              "      <td>General</td>\n",
              "      <td>Tops</td>\n",
              "      <td>Blouses</td>\n",
              "    </tr>\n",
              "  </tbody>\n",
              "</table>\n",
              "</div>"
            ],
            "text/plain": [
              "   Clothing ID  Age  ... Department Name Class Name\n",
              "0          767   33  ...        Intimate  Intimates\n",
              "1         1080   34  ...         Dresses    Dresses\n",
              "2         1077   60  ...         Dresses    Dresses\n",
              "3         1049   50  ...         Bottoms      Pants\n",
              "4          847   47  ...            Tops    Blouses\n",
              "\n",
              "[5 rows x 10 columns]"
            ]
          },
          "metadata": {},
          "execution_count": 3
        }
      ]
    },
    {
      "cell_type": "markdown",
      "metadata": {
        "id": "eV0PWe4-bvtv"
      },
      "source": [
        "Pre-processing"
      ]
    },
    {
      "cell_type": "code",
      "metadata": {
        "colab": {
          "base_uri": "https://localhost:8080/"
        },
        "id": "6qAd1e4mb5Za",
        "outputId": "7f98ef8a-9656-4d66-bc1c-ad00dec140e0"
      },
      "source": [
        "reviews_df.isnull().sum()                # Check for null values "
      ],
      "execution_count": 4,
      "outputs": [
        {
          "output_type": "execute_result",
          "data": {
            "text/plain": [
              "Clothing ID                   0\n",
              "Age                           0\n",
              "Title                      3810\n",
              "Review Text                 845\n",
              "Rating                        0\n",
              "Recommended IND               0\n",
              "Positive Feedback Count       0\n",
              "Division Name                14\n",
              "Department Name              14\n",
              "Class Name                   14\n",
              "dtype: int64"
            ]
          },
          "metadata": {},
          "execution_count": 4
        }
      ]
    },
    {
      "cell_type": "code",
      "metadata": {
        "colab": {
          "base_uri": "https://localhost:8080/"
        },
        "id": "zIzL4R1OmhYO",
        "outputId": "5e423949-994f-41cc-a5f7-741b29b80b71"
      },
      "source": [
        "reviews_df_drop = reviews_df.copy()\n",
        "reviews_df_drop.dropna(axis=0, inplace=True)     # droping Null Values\n",
        "reviews_df_drop.isnull().sum()   "
      ],
      "execution_count": 5,
      "outputs": [
        {
          "output_type": "execute_result",
          "data": {
            "text/plain": [
              "Clothing ID                0\n",
              "Age                        0\n",
              "Title                      0\n",
              "Review Text                0\n",
              "Rating                     0\n",
              "Recommended IND            0\n",
              "Positive Feedback Count    0\n",
              "Division Name              0\n",
              "Department Name            0\n",
              "Class Name                 0\n",
              "dtype: int64"
            ]
          },
          "metadata": {},
          "execution_count": 5
        }
      ]
    },
    {
      "cell_type": "code",
      "metadata": {
        "colab": {
          "base_uri": "https://localhost:8080/"
        },
        "id": "y3yNkSEpcXZ9",
        "outputId": "bc179b32-0cdd-4a74-83ca-3e2d191342a7"
      },
      "source": [
        "reviews_df_drop['Clothing ID'].nunique()"
      ],
      "execution_count": 6,
      "outputs": [
        {
          "output_type": "execute_result",
          "data": {
            "text/plain": [
              "1095"
            ]
          },
          "metadata": {},
          "execution_count": 6
        }
      ]
    },
    {
      "cell_type": "code",
      "metadata": {
        "colab": {
          "base_uri": "https://localhost:8080/"
        },
        "id": "O6n7YBViifWr",
        "outputId": "a46ad79f-79e6-4300-b492-da38dddaddeb"
      },
      "source": [
        "reviews_df.shape"
      ],
      "execution_count": 7,
      "outputs": [
        {
          "output_type": "execute_result",
          "data": {
            "text/plain": [
              "(23486, 10)"
            ]
          },
          "metadata": {},
          "execution_count": 7
        }
      ]
    },
    {
      "cell_type": "code",
      "metadata": {
        "colab": {
          "base_uri": "https://localhost:8080/"
        },
        "id": "fTPoTwspgadw",
        "outputId": "31b4b301-d8a6-4ac6-8d93-357522c4f9ae"
      },
      "source": [
        "reviews_df_drop.shape"
      ],
      "execution_count": 8,
      "outputs": [
        {
          "output_type": "execute_result",
          "data": {
            "text/plain": [
              "(19662, 10)"
            ]
          },
          "metadata": {},
          "execution_count": 8
        }
      ]
    },
    {
      "cell_type": "markdown",
      "metadata": {
        "id": "FW-sREaYm-hX"
      },
      "source": [
        "Text Normalization"
      ]
    },
    {
      "cell_type": "code",
      "metadata": {
        "id": "Ba2K-PRUmhYZ"
      },
      "source": [
        "def clean_string(r):\n",
        "    #remove regular expression and change to lowercase\n",
        "    r1 = re.sub('[^A-Za-z]+', ' ', str(r))\n",
        "    r1 = r1.strip().lower()\n",
        "   \n",
        "    #remove stopwords\n",
        "    no_sw = []\n",
        "    if r1 not in stopwords.words():\n",
        "        no_sw.append(r1)\n",
        "        \n",
        "    #perform stemming\n",
        "    stemmer = PorterStemmer() \n",
        "    final_list = []\n",
        "\n",
        "    for i in no_sw:\n",
        "        final_list.append(stemmer.stem(str(i)))\n",
        "        \n",
        "    #Lemmatization\n",
        "    lema = WordNetLemmatizer() \n",
        "    final_list = []\n",
        "\n",
        "    for i in no_sw:\n",
        "        final_list.append(lema.lemmatize(str(i)))\n",
        "                \n",
        "    return final_list"
      ],
      "execution_count": 9,
      "outputs": []
    },
    {
      "cell_type": "code",
      "metadata": {
        "colab": {
          "base_uri": "https://localhost:8080/",
          "height": 206
        },
        "id": "ywNEzM04mhYa",
        "outputId": "e3a818b9-9ae6-420e-dcbc-aafa04aed119"
      },
      "source": [
        "only_reviews_df = reviews_df_drop.copy()\n",
        "only_reviews_df= only_reviews_df[['Clothing ID','Review Text', 'Age', 'Recommended IND']]\n",
        "only_reviews_df['Filtered Reviews'] = only_reviews_df['Review Text'].apply(clean_string)\n",
        "only_reviews_df.head()"
      ],
      "execution_count": 10,
      "outputs": [
        {
          "output_type": "execute_result",
          "data": {
            "text/html": [
              "<div>\n",
              "<style scoped>\n",
              "    .dataframe tbody tr th:only-of-type {\n",
              "        vertical-align: middle;\n",
              "    }\n",
              "\n",
              "    .dataframe tbody tr th {\n",
              "        vertical-align: top;\n",
              "    }\n",
              "\n",
              "    .dataframe thead th {\n",
              "        text-align: right;\n",
              "    }\n",
              "</style>\n",
              "<table border=\"1\" class=\"dataframe\">\n",
              "  <thead>\n",
              "    <tr style=\"text-align: right;\">\n",
              "      <th></th>\n",
              "      <th>Clothing ID</th>\n",
              "      <th>Review Text</th>\n",
              "      <th>Age</th>\n",
              "      <th>Recommended IND</th>\n",
              "      <th>Filtered Reviews</th>\n",
              "    </tr>\n",
              "  </thead>\n",
              "  <tbody>\n",
              "    <tr>\n",
              "      <th>2</th>\n",
              "      <td>1077</td>\n",
              "      <td>I had such high hopes for this dress and reall...</td>\n",
              "      <td>60</td>\n",
              "      <td>0</td>\n",
              "      <td>[i had such high hopes for this dress and real...</td>\n",
              "    </tr>\n",
              "    <tr>\n",
              "      <th>3</th>\n",
              "      <td>1049</td>\n",
              "      <td>I love, love, love this jumpsuit. it's fun, fl...</td>\n",
              "      <td>50</td>\n",
              "      <td>1</td>\n",
              "      <td>[i love love love this jumpsuit it s fun flirt...</td>\n",
              "    </tr>\n",
              "    <tr>\n",
              "      <th>4</th>\n",
              "      <td>847</td>\n",
              "      <td>This shirt is very flattering to all due to th...</td>\n",
              "      <td>47</td>\n",
              "      <td>1</td>\n",
              "      <td>[this shirt is very flattering to all due to t...</td>\n",
              "    </tr>\n",
              "    <tr>\n",
              "      <th>5</th>\n",
              "      <td>1080</td>\n",
              "      <td>I love tracy reese dresses, but this one is no...</td>\n",
              "      <td>49</td>\n",
              "      <td>0</td>\n",
              "      <td>[i love tracy reese dresses but this one is no...</td>\n",
              "    </tr>\n",
              "    <tr>\n",
              "      <th>6</th>\n",
              "      <td>858</td>\n",
              "      <td>I aded this in my basket at hte last mintue to...</td>\n",
              "      <td>39</td>\n",
              "      <td>1</td>\n",
              "      <td>[i aded this in my basket at hte last mintue t...</td>\n",
              "    </tr>\n",
              "  </tbody>\n",
              "</table>\n",
              "</div>"
            ],
            "text/plain": [
              "   Clothing ID  ...                                   Filtered Reviews\n",
              "2         1077  ...  [i had such high hopes for this dress and real...\n",
              "3         1049  ...  [i love love love this jumpsuit it s fun flirt...\n",
              "4          847  ...  [this shirt is very flattering to all due to t...\n",
              "5         1080  ...  [i love tracy reese dresses but this one is no...\n",
              "6          858  ...  [i aded this in my basket at hte last mintue t...\n",
              "\n",
              "[5 rows x 5 columns]"
            ]
          },
          "metadata": {},
          "execution_count": 10
        }
      ]
    },
    {
      "cell_type": "code",
      "metadata": {
        "colab": {
          "base_uri": "https://localhost:8080/",
          "height": 450
        },
        "id": "0qWiXubdmhYb",
        "outputId": "dc3df13c-d7f8-49e9-f6db-4a15cdc1dcfe"
      },
      "source": [
        "sid = SentimentIntensityAnalyzer()\n",
        "\n",
        "num_records = only_reviews_df.shape[0]\n",
        "ones_array = np.ones(num_records)\n",
        "    \n",
        "only_reviews_df['Compound score'] = ones_array\n",
        "\n",
        "for i in range(len(only_reviews_df['Filtered Reviews'])):\n",
        "\n",
        "    element = only_reviews_df['Filtered Reviews'].iloc[i][0]\n",
        "#    print(element)\n",
        "    score = sid.polarity_scores(element)\n",
        "#    print(score)\n",
        "    compound = score['compound']\n",
        "#    print(compound)\n",
        "    only_reviews_df['Compound score'].iloc[i] = compound\n",
        "only_reviews_df.head(n=10)\n",
        "#    pd.set_option('display.max_rows', only_reviews_df.shape[0]+1)\n",
        "#    print(only_reviews_df)\n"
      ],
      "execution_count": 11,
      "outputs": [
        {
          "output_type": "stream",
          "name": "stderr",
          "text": [
            "/usr/local/lib/python3.7/dist-packages/pandas/core/indexing.py:670: SettingWithCopyWarning: \n",
            "A value is trying to be set on a copy of a slice from a DataFrame\n",
            "\n",
            "See the caveats in the documentation: https://pandas.pydata.org/pandas-docs/stable/user_guide/indexing.html#returning-a-view-versus-a-copy\n",
            "  iloc._setitem_with_indexer(indexer, value)\n"
          ]
        },
        {
          "output_type": "execute_result",
          "data": {
            "text/html": [
              "<div>\n",
              "<style scoped>\n",
              "    .dataframe tbody tr th:only-of-type {\n",
              "        vertical-align: middle;\n",
              "    }\n",
              "\n",
              "    .dataframe tbody tr th {\n",
              "        vertical-align: top;\n",
              "    }\n",
              "\n",
              "    .dataframe thead th {\n",
              "        text-align: right;\n",
              "    }\n",
              "</style>\n",
              "<table border=\"1\" class=\"dataframe\">\n",
              "  <thead>\n",
              "    <tr style=\"text-align: right;\">\n",
              "      <th></th>\n",
              "      <th>Clothing ID</th>\n",
              "      <th>Review Text</th>\n",
              "      <th>Age</th>\n",
              "      <th>Recommended IND</th>\n",
              "      <th>Filtered Reviews</th>\n",
              "      <th>Compound score</th>\n",
              "    </tr>\n",
              "  </thead>\n",
              "  <tbody>\n",
              "    <tr>\n",
              "      <th>2</th>\n",
              "      <td>1077</td>\n",
              "      <td>I had such high hopes for this dress and reall...</td>\n",
              "      <td>60</td>\n",
              "      <td>0</td>\n",
              "      <td>[i had such high hopes for this dress and real...</td>\n",
              "      <td>0.94</td>\n",
              "    </tr>\n",
              "    <tr>\n",
              "      <th>3</th>\n",
              "      <td>1049</td>\n",
              "      <td>I love, love, love this jumpsuit. it's fun, fl...</td>\n",
              "      <td>50</td>\n",
              "      <td>1</td>\n",
              "      <td>[i love love love this jumpsuit it s fun flirt...</td>\n",
              "      <td>0.48</td>\n",
              "    </tr>\n",
              "    <tr>\n",
              "      <th>4</th>\n",
              "      <td>847</td>\n",
              "      <td>This shirt is very flattering to all due to th...</td>\n",
              "      <td>47</td>\n",
              "      <td>1</td>\n",
              "      <td>[this shirt is very flattering to all due to t...</td>\n",
              "      <td>0.92</td>\n",
              "    </tr>\n",
              "    <tr>\n",
              "      <th>5</th>\n",
              "      <td>1080</td>\n",
              "      <td>I love tracy reese dresses, but this one is no...</td>\n",
              "      <td>49</td>\n",
              "      <td>0</td>\n",
              "      <td>[i love tracy reese dresses but this one is no...</td>\n",
              "      <td>0.94</td>\n",
              "    </tr>\n",
              "    <tr>\n",
              "      <th>6</th>\n",
              "      <td>858</td>\n",
              "      <td>I aded this in my basket at hte last mintue to...</td>\n",
              "      <td>39</td>\n",
              "      <td>1</td>\n",
              "      <td>[i aded this in my basket at hte last mintue t...</td>\n",
              "      <td>0.46</td>\n",
              "    </tr>\n",
              "    <tr>\n",
              "      <th>7</th>\n",
              "      <td>858</td>\n",
              "      <td>I ordered this in carbon for store pick up, an...</td>\n",
              "      <td>39</td>\n",
              "      <td>1</td>\n",
              "      <td>[i ordered this in carbon for store pick up an...</td>\n",
              "      <td>-0.09</td>\n",
              "    </tr>\n",
              "    <tr>\n",
              "      <th>8</th>\n",
              "      <td>1077</td>\n",
              "      <td>I love this dress. i usually get an xs but it ...</td>\n",
              "      <td>24</td>\n",
              "      <td>1</td>\n",
              "      <td>[i love this dress i usually get an xs but it ...</td>\n",
              "      <td>0.72</td>\n",
              "    </tr>\n",
              "    <tr>\n",
              "      <th>9</th>\n",
              "      <td>1077</td>\n",
              "      <td>I'm 5\"5' and 125 lbs. i ordered the s petite t...</td>\n",
              "      <td>34</td>\n",
              "      <td>1</td>\n",
              "      <td>[i m and lbs i ordered the s petite to make su...</td>\n",
              "      <td>-0.37</td>\n",
              "    </tr>\n",
              "    <tr>\n",
              "      <th>10</th>\n",
              "      <td>1077</td>\n",
              "      <td>Dress runs small esp where the zipper area run...</td>\n",
              "      <td>53</td>\n",
              "      <td>0</td>\n",
              "      <td>[dress runs small esp where the zipper area ru...</td>\n",
              "      <td>0.23</td>\n",
              "    </tr>\n",
              "    <tr>\n",
              "      <th>12</th>\n",
              "      <td>1095</td>\n",
              "      <td>More and more i find myself reliant on the rev...</td>\n",
              "      <td>53</td>\n",
              "      <td>1</td>\n",
              "      <td>[more and more i find myself reliant on the re...</td>\n",
              "      <td>0.55</td>\n",
              "    </tr>\n",
              "  </tbody>\n",
              "</table>\n",
              "</div>"
            ],
            "text/plain": [
              "    Clothing ID  ... Compound score\n",
              "2          1077  ...           0.94\n",
              "3          1049  ...           0.48\n",
              "4           847  ...           0.92\n",
              "5          1080  ...           0.94\n",
              "6           858  ...           0.46\n",
              "7           858  ...          -0.09\n",
              "8          1077  ...           0.72\n",
              "9          1077  ...          -0.37\n",
              "10         1077  ...           0.23\n",
              "12         1095  ...           0.55\n",
              "\n",
              "[10 rows x 6 columns]"
            ]
          },
          "metadata": {},
          "execution_count": 11
        }
      ]
    },
    {
      "cell_type": "markdown",
      "metadata": {
        "id": "egR8yJODKwOi"
      },
      "source": [
        "Classify sentiments into positive, negative, neutral"
      ]
    },
    {
      "cell_type": "code",
      "metadata": {
        "colab": {
          "base_uri": "https://localhost:8080/",
          "height": 363
        },
        "id": "74DdfZFrmhYd",
        "outputId": "90779ca5-bf81-45c9-dc61-83305dfb302c"
      },
      "source": [
        "category = []\n",
        "\n",
        "for i in only_reviews_df['Compound score']: \n",
        "    \n",
        "    if i > 0:\n",
        "        category.append('Positive')\n",
        "\n",
        "    elif i < 0:\n",
        "        category.append('Negative')\n",
        "\n",
        "    else:\n",
        "        category.append('Neutral')\n",
        "\n",
        "only_reviews_df['Sentiment category'] = category\n",
        "only_reviews_df.tail(n=10)"
      ],
      "execution_count": 12,
      "outputs": [
        {
          "output_type": "execute_result",
          "data": {
            "text/html": [
              "<div>\n",
              "<style scoped>\n",
              "    .dataframe tbody tr th:only-of-type {\n",
              "        vertical-align: middle;\n",
              "    }\n",
              "\n",
              "    .dataframe tbody tr th {\n",
              "        vertical-align: top;\n",
              "    }\n",
              "\n",
              "    .dataframe thead th {\n",
              "        text-align: right;\n",
              "    }\n",
              "</style>\n",
              "<table border=\"1\" class=\"dataframe\">\n",
              "  <thead>\n",
              "    <tr style=\"text-align: right;\">\n",
              "      <th></th>\n",
              "      <th>Clothing ID</th>\n",
              "      <th>Review Text</th>\n",
              "      <th>Age</th>\n",
              "      <th>Recommended IND</th>\n",
              "      <th>Filtered Reviews</th>\n",
              "      <th>Compound score</th>\n",
              "      <th>Sentiment category</th>\n",
              "    </tr>\n",
              "  </thead>\n",
              "  <tbody>\n",
              "    <tr>\n",
              "      <th>23475</th>\n",
              "      <td>1104</td>\n",
              "      <td>Cute dress but not for me.  the waist is too h...</td>\n",
              "      <td>41</td>\n",
              "      <td>1</td>\n",
              "      <td>[cute dress but not for me the waist is too hi...</td>\n",
              "      <td>0.79</td>\n",
              "      <td>Positive</td>\n",
              "    </tr>\n",
              "    <tr>\n",
              "      <th>23476</th>\n",
              "      <td>522</td>\n",
              "      <td>These bottoms are very cute but defiantly chee...</td>\n",
              "      <td>27</td>\n",
              "      <td>1</td>\n",
              "      <td>[these bottoms are very cute but defiantly che...</td>\n",
              "      <td>0.70</td>\n",
              "      <td>Positive</td>\n",
              "    </tr>\n",
              "    <tr>\n",
              "      <th>23477</th>\n",
              "      <td>1094</td>\n",
              "      <td>I'm so impressed with the beautiful color comb...</td>\n",
              "      <td>39</td>\n",
              "      <td>1</td>\n",
              "      <td>[i m so impressed with the beautiful color com...</td>\n",
              "      <td>-0.75</td>\n",
              "      <td>Negative</td>\n",
              "    </tr>\n",
              "    <tr>\n",
              "      <th>23478</th>\n",
              "      <td>1104</td>\n",
              "      <td>I was surprised at the positive reviews for th...</td>\n",
              "      <td>32</td>\n",
              "      <td>0</td>\n",
              "      <td>[i was surprised at the positive reviews for t...</td>\n",
              "      <td>-0.71</td>\n",
              "      <td>Negative</td>\n",
              "    </tr>\n",
              "    <tr>\n",
              "      <th>23479</th>\n",
              "      <td>1005</td>\n",
              "      <td>So i wasn't sure about ordering this skirt bec...</td>\n",
              "      <td>42</td>\n",
              "      <td>1</td>\n",
              "      <td>[so i wasn t sure about ordering this skirt be...</td>\n",
              "      <td>0.97</td>\n",
              "      <td>Positive</td>\n",
              "    </tr>\n",
              "    <tr>\n",
              "      <th>23481</th>\n",
              "      <td>1104</td>\n",
              "      <td>I was very happy to snag this dress at such a ...</td>\n",
              "      <td>34</td>\n",
              "      <td>1</td>\n",
              "      <td>[i was very happy to snag this dress at such a...</td>\n",
              "      <td>0.91</td>\n",
              "      <td>Positive</td>\n",
              "    </tr>\n",
              "    <tr>\n",
              "      <th>23482</th>\n",
              "      <td>862</td>\n",
              "      <td>It reminds me of maternity clothes. soft, stre...</td>\n",
              "      <td>48</td>\n",
              "      <td>1</td>\n",
              "      <td>[it reminds me of maternity clothes soft stret...</td>\n",
              "      <td>0.67</td>\n",
              "      <td>Positive</td>\n",
              "    </tr>\n",
              "    <tr>\n",
              "      <th>23483</th>\n",
              "      <td>1104</td>\n",
              "      <td>This fit well, but the top was very see throug...</td>\n",
              "      <td>31</td>\n",
              "      <td>0</td>\n",
              "      <td>[this fit well but the top was very see throug...</td>\n",
              "      <td>0.93</td>\n",
              "      <td>Positive</td>\n",
              "    </tr>\n",
              "    <tr>\n",
              "      <th>23484</th>\n",
              "      <td>1084</td>\n",
              "      <td>I bought this dress for a wedding i have this ...</td>\n",
              "      <td>28</td>\n",
              "      <td>1</td>\n",
              "      <td>[i bought this dress for a wedding i have this...</td>\n",
              "      <td>0.82</td>\n",
              "      <td>Positive</td>\n",
              "    </tr>\n",
              "    <tr>\n",
              "      <th>23485</th>\n",
              "      <td>1104</td>\n",
              "      <td>This dress in a lovely platinum is feminine an...</td>\n",
              "      <td>52</td>\n",
              "      <td>1</td>\n",
              "      <td>[this dress in a lovely platinum is feminine a...</td>\n",
              "      <td>0.93</td>\n",
              "      <td>Positive</td>\n",
              "    </tr>\n",
              "  </tbody>\n",
              "</table>\n",
              "</div>"
            ],
            "text/plain": [
              "       Clothing ID  ... Sentiment category\n",
              "23475         1104  ...           Positive\n",
              "23476          522  ...           Positive\n",
              "23477         1094  ...           Negative\n",
              "23478         1104  ...           Negative\n",
              "23479         1005  ...           Positive\n",
              "23481         1104  ...           Positive\n",
              "23482          862  ...           Positive\n",
              "23483         1104  ...           Positive\n",
              "23484         1084  ...           Positive\n",
              "23485         1104  ...           Positive\n",
              "\n",
              "[10 rows x 7 columns]"
            ]
          },
          "metadata": {},
          "execution_count": 12
        }
      ]
    },
    {
      "cell_type": "code",
      "source": [
        "sentiment_catagory_df = only_reviews_df.copy()\n",
        "sentiment_catagory_df = sentiment_catagory_df[['Filtered Reviews', 'Sentiment category']]\n",
        "sentiment_catagory_df"
      ],
      "metadata": {
        "colab": {
          "base_uri": "https://localhost:8080/",
          "height": 424
        },
        "id": "vVGom5xwDaGK",
        "outputId": "040ce2c3-0bd7-43e7-99cc-b90b85c20319"
      },
      "execution_count": 13,
      "outputs": [
        {
          "output_type": "execute_result",
          "data": {
            "text/html": [
              "<div>\n",
              "<style scoped>\n",
              "    .dataframe tbody tr th:only-of-type {\n",
              "        vertical-align: middle;\n",
              "    }\n",
              "\n",
              "    .dataframe tbody tr th {\n",
              "        vertical-align: top;\n",
              "    }\n",
              "\n",
              "    .dataframe thead th {\n",
              "        text-align: right;\n",
              "    }\n",
              "</style>\n",
              "<table border=\"1\" class=\"dataframe\">\n",
              "  <thead>\n",
              "    <tr style=\"text-align: right;\">\n",
              "      <th></th>\n",
              "      <th>Filtered Reviews</th>\n",
              "      <th>Sentiment category</th>\n",
              "    </tr>\n",
              "  </thead>\n",
              "  <tbody>\n",
              "    <tr>\n",
              "      <th>2</th>\n",
              "      <td>[i had such high hopes for this dress and real...</td>\n",
              "      <td>Positive</td>\n",
              "    </tr>\n",
              "    <tr>\n",
              "      <th>3</th>\n",
              "      <td>[i love love love this jumpsuit it s fun flirt...</td>\n",
              "      <td>Positive</td>\n",
              "    </tr>\n",
              "    <tr>\n",
              "      <th>4</th>\n",
              "      <td>[this shirt is very flattering to all due to t...</td>\n",
              "      <td>Positive</td>\n",
              "    </tr>\n",
              "    <tr>\n",
              "      <th>5</th>\n",
              "      <td>[i love tracy reese dresses but this one is no...</td>\n",
              "      <td>Positive</td>\n",
              "    </tr>\n",
              "    <tr>\n",
              "      <th>6</th>\n",
              "      <td>[i aded this in my basket at hte last mintue t...</td>\n",
              "      <td>Positive</td>\n",
              "    </tr>\n",
              "    <tr>\n",
              "      <th>...</th>\n",
              "      <td>...</td>\n",
              "      <td>...</td>\n",
              "    </tr>\n",
              "    <tr>\n",
              "      <th>23481</th>\n",
              "      <td>[i was very happy to snag this dress at such a...</td>\n",
              "      <td>Positive</td>\n",
              "    </tr>\n",
              "    <tr>\n",
              "      <th>23482</th>\n",
              "      <td>[it reminds me of maternity clothes soft stret...</td>\n",
              "      <td>Positive</td>\n",
              "    </tr>\n",
              "    <tr>\n",
              "      <th>23483</th>\n",
              "      <td>[this fit well but the top was very see throug...</td>\n",
              "      <td>Positive</td>\n",
              "    </tr>\n",
              "    <tr>\n",
              "      <th>23484</th>\n",
              "      <td>[i bought this dress for a wedding i have this...</td>\n",
              "      <td>Positive</td>\n",
              "    </tr>\n",
              "    <tr>\n",
              "      <th>23485</th>\n",
              "      <td>[this dress in a lovely platinum is feminine a...</td>\n",
              "      <td>Positive</td>\n",
              "    </tr>\n",
              "  </tbody>\n",
              "</table>\n",
              "<p>19662 rows × 2 columns</p>\n",
              "</div>"
            ],
            "text/plain": [
              "                                        Filtered Reviews Sentiment category\n",
              "2      [i had such high hopes for this dress and real...           Positive\n",
              "3      [i love love love this jumpsuit it s fun flirt...           Positive\n",
              "4      [this shirt is very flattering to all due to t...           Positive\n",
              "5      [i love tracy reese dresses but this one is no...           Positive\n",
              "6      [i aded this in my basket at hte last mintue t...           Positive\n",
              "...                                                  ...                ...\n",
              "23481  [i was very happy to snag this dress at such a...           Positive\n",
              "23482  [it reminds me of maternity clothes soft stret...           Positive\n",
              "23483  [this fit well but the top was very see throug...           Positive\n",
              "23484  [i bought this dress for a wedding i have this...           Positive\n",
              "23485  [this dress in a lovely platinum is feminine a...           Positive\n",
              "\n",
              "[19662 rows x 2 columns]"
            ]
          },
          "metadata": {},
          "execution_count": 13
        }
      ]
    },
    {
      "cell_type": "markdown",
      "metadata": {
        "id": "k3-o_zyuLke8"
      },
      "source": [
        "No. of Positive, Negaive and Neutral "
      ]
    },
    {
      "cell_type": "code",
      "metadata": {
        "colab": {
          "base_uri": "https://localhost:8080/",
          "height": 143
        },
        "id": "FCujNxtZmhYd",
        "outputId": "e8da8c96-8513-4248-a896-e3c3adc7f397"
      },
      "source": [
        "num_sentiment_df = only_reviews_df.copy()\n",
        "num_sentiment_df = num_sentiment_df[['Clothing ID', 'Sentiment category']]\n",
        "num_sentiment_agg = num_sentiment_df.groupby('Sentiment category').size().reset_index(name='No. of sentiments')\n",
        "num_sentiment_agg"
      ],
      "execution_count": 14,
      "outputs": [
        {
          "output_type": "execute_result",
          "data": {
            "text/html": [
              "<div>\n",
              "<style scoped>\n",
              "    .dataframe tbody tr th:only-of-type {\n",
              "        vertical-align: middle;\n",
              "    }\n",
              "\n",
              "    .dataframe tbody tr th {\n",
              "        vertical-align: top;\n",
              "    }\n",
              "\n",
              "    .dataframe thead th {\n",
              "        text-align: right;\n",
              "    }\n",
              "</style>\n",
              "<table border=\"1\" class=\"dataframe\">\n",
              "  <thead>\n",
              "    <tr style=\"text-align: right;\">\n",
              "      <th></th>\n",
              "      <th>Sentiment category</th>\n",
              "      <th>No. of sentiments</th>\n",
              "    </tr>\n",
              "  </thead>\n",
              "  <tbody>\n",
              "    <tr>\n",
              "      <th>0</th>\n",
              "      <td>Negative</td>\n",
              "      <td>1080</td>\n",
              "    </tr>\n",
              "    <tr>\n",
              "      <th>1</th>\n",
              "      <td>Neutral</td>\n",
              "      <td>96</td>\n",
              "    </tr>\n",
              "    <tr>\n",
              "      <th>2</th>\n",
              "      <td>Positive</td>\n",
              "      <td>18486</td>\n",
              "    </tr>\n",
              "  </tbody>\n",
              "</table>\n",
              "</div>"
            ],
            "text/plain": [
              "  Sentiment category  No. of sentiments\n",
              "0           Negative               1080\n",
              "1            Neutral                 96\n",
              "2           Positive              18486"
            ]
          },
          "metadata": {},
          "execution_count": 14
        }
      ]
    },
    {
      "cell_type": "code",
      "metadata": {
        "colab": {
          "base_uri": "https://localhost:8080/"
        },
        "id": "EDRCFFs_Q6Jg",
        "outputId": "0bf45e3c-d403-4dd1-b921-875188e1634b"
      },
      "source": [
        "num_sentiment_agg.columns"
      ],
      "execution_count": 15,
      "outputs": [
        {
          "output_type": "execute_result",
          "data": {
            "text/plain": [
              "Index(['Sentiment category', 'No. of sentiments'], dtype='object')"
            ]
          },
          "metadata": {},
          "execution_count": 15
        }
      ]
    },
    {
      "cell_type": "code",
      "metadata": {
        "colab": {
          "base_uri": "https://localhost:8080/",
          "height": 688
        },
        "id": "pc6Nu0F6mhYe",
        "outputId": "dbdda37f-1187-480b-f488-0279e3cb454a"
      },
      "source": [
        "fig, ax = plt.subplots()\n",
        "num_sentiment_agg.plot(kind='bar', x='Sentiment category', y='No. of sentiments', figsize = DIMS, ax=ax, rot=0, fontsize = 16)\n",
        "fig.suptitle('Number of sentiment category', fontsize=16)\n",
        "ax.legend(['No. of sentiments'], fontsize='10')\n",
        "DIMS=(10, 10)"
      ],
      "execution_count": 16,
      "outputs": [
        {
          "output_type": "display_data",
          "data": {
            "image/png": "[encoded data removed]",
            "text/plain": [
              "<Figure size 720x720 with 1 Axes>"
            ]
          },
          "metadata": {
            "needs_background": "light"
          }
        }
      ]
    },
    {
      "cell_type": "code",
      "metadata": {
        "id": "q_sTn6KJmhYi"
      },
      "source": [
        "X = only_reviews_df['Sentiment category']\n",
        "y = only_reviews_df['Recommended IND']\n",
        "X_train, X_test, y_train, y_test = train_test_split(\n",
        "    X, y, test_size=0.25)"
      ],
      "execution_count": 17,
      "outputs": []
    },
    {
      "cell_type": "code",
      "metadata": {
        "id": "grKBfZ9WmhYj"
      },
      "source": [
        "count_vect = CountVectorizer()      #Apply CountVectorizer and TdidfTransformer transformations\n",
        "tfidf_tfm = TfidfTransformer()\n",
        "train_df_counts = count_vect.fit_transform(X_train)\n",
        "train_df_tfidf = tfidf_tfm.fit_transform(train_df_counts)"
      ],
      "execution_count": 18,
      "outputs": []
    },
    {
      "cell_type": "code",
      "metadata": {
        "id": "r-Um9gMTmhYk"
      },
      "source": [
        "clf = MultinomialNB().fit(train_df_tfidf, y_train)"
      ],
      "execution_count": 19,
      "outputs": []
    },
    {
      "cell_type": "code",
      "metadata": {
        "id": "i23ycfKnmhYl"
      },
      "source": [
        "count_test_vect = count_vect.transform(X_test)\n",
        "y_predict = clf.predict(count_test_vect)"
      ],
      "execution_count": 20,
      "outputs": []
    },
    {
      "cell_type": "code",
      "metadata": {
        "colab": {
          "base_uri": "https://localhost:8080/",
          "height": 206
        },
        "id": "D6tBMkSsmhYm",
        "outputId": "dea7ec02-06e8-4f11-9549-292331b10d9a"
      },
      "source": [
        "y_confusion_df = pd.DataFrame({\"y_test\": y_test, \"y_predict\" : y_predict} )\n",
        "y_confusion_df.head()"
      ],
      "execution_count": 21,
      "outputs": [
        {
          "output_type": "execute_result",
          "data": {
            "text/html": [
              "<div>\n",
              "<style scoped>\n",
              "    .dataframe tbody tr th:only-of-type {\n",
              "        vertical-align: middle;\n",
              "    }\n",
              "\n",
              "    .dataframe tbody tr th {\n",
              "        vertical-align: top;\n",
              "    }\n",
              "\n",
              "    .dataframe thead th {\n",
              "        text-align: right;\n",
              "    }\n",
              "</style>\n",
              "<table border=\"1\" class=\"dataframe\">\n",
              "  <thead>\n",
              "    <tr style=\"text-align: right;\">\n",
              "      <th></th>\n",
              "      <th>y_test</th>\n",
              "      <th>y_predict</th>\n",
              "    </tr>\n",
              "  </thead>\n",
              "  <tbody>\n",
              "    <tr>\n",
              "      <th>4809</th>\n",
              "      <td>1</td>\n",
              "      <td>1</td>\n",
              "    </tr>\n",
              "    <tr>\n",
              "      <th>11855</th>\n",
              "      <td>1</td>\n",
              "      <td>1</td>\n",
              "    </tr>\n",
              "    <tr>\n",
              "      <th>8348</th>\n",
              "      <td>1</td>\n",
              "      <td>1</td>\n",
              "    </tr>\n",
              "    <tr>\n",
              "      <th>21174</th>\n",
              "      <td>1</td>\n",
              "      <td>1</td>\n",
              "    </tr>\n",
              "    <tr>\n",
              "      <th>10103</th>\n",
              "      <td>0</td>\n",
              "      <td>1</td>\n",
              "    </tr>\n",
              "  </tbody>\n",
              "</table>\n",
              "</div>"
            ],
            "text/plain": [
              "       y_test  y_predict\n",
              "4809        1          1\n",
              "11855       1          1\n",
              "8348        1          1\n",
              "21174       1          1\n",
              "10103       0          1"
            ]
          },
          "metadata": {},
          "execution_count": 21
        }
      ]
    },
    {
      "cell_type": "code",
      "metadata": {
        "id": "RBfH6T-AmhYm",
        "colab": {
          "base_uri": "https://localhost:8080/"
        },
        "outputId": "b087a7dd-0920-4dda-c285-a67a644cb4d3"
      },
      "source": [
        "cm = confusion_matrix(y_test, y_predict)\n",
        "cm"
      ],
      "execution_count": 22,
      "outputs": [
        {
          "output_type": "execute_result",
          "data": {
            "text/plain": [
              "array([[ 183,  756],\n",
              "       [  93, 3884]])"
            ]
          },
          "metadata": {},
          "execution_count": 22
        }
      ]
    },
    {
      "cell_type": "code",
      "metadata": {
        "colab": {
          "base_uri": "https://localhost:8080/"
        },
        "id": "XbNFR5A_mhYn",
        "outputId": "b383f0be-e55b-42df-905f-376598b5846d"
      },
      "source": [
        "print(\"True negatives:\", (cm[0][0]))\n",
        "print(\"True positives:\", (cm[1][1]))\n",
        "print(\"False negatives:\", (cm[0][1]))\n",
        "print(\"Total:\", (sum(sum(cm))))\n",
        "print(\"Accuracy:\", ((cm[0][0] + cm[1][1])/sum(sum(cm))))\n",
        "print(\"Proportion of False negatives:\", (cm[0][1] /sum(sum(cm))))"
      ],
      "execution_count": 23,
      "outputs": [
        {
          "output_type": "stream",
          "name": "stdout",
          "text": [
            "True negatives: 183\n",
            "True positives: 3884\n",
            "False negatives: 756\n",
            "Total: 4916\n",
            "Accuracy: 0.8272986167615948\n",
            "Proportion of False negatives: 0.15378356387306755\n"
          ]
        }
      ]
    },
    {
      "cell_type": "code",
      "metadata": {
        "colab": {
          "base_uri": "https://localhost:8080/",
          "height": 206
        },
        "id": "PWnmJTFGmhYo",
        "outputId": "df8f2fe7-874b-4e16-cc02-bb997c99616a"
      },
      "source": [
        "only_reviews_df['id'] = only_reviews_df.index\n",
        "y_confusion_df['id'] = y_confusion_df.index\n",
        "\n",
        "wrong_indices = y_confusion_df[\n",
        "    y_confusion_df['y_test'] == y_confusion_df['y_predict']].index\n",
        "\n",
        "mismatch_df = only_reviews_df.merge(y_confusion_df, on='id')\n",
        "mismatch_df = mismatch_df[mismatch_df['id'].isin(wrong_indices)]\n",
        "mismatch_df.head()"
      ],
      "execution_count": 24,
      "outputs": [
        {
          "output_type": "execute_result",
          "data": {
            "text/html": [
              "<div>\n",
              "<style scoped>\n",
              "    .dataframe tbody tr th:only-of-type {\n",
              "        vertical-align: middle;\n",
              "    }\n",
              "\n",
              "    .dataframe tbody tr th {\n",
              "        vertical-align: top;\n",
              "    }\n",
              "\n",
              "    .dataframe thead th {\n",
              "        text-align: right;\n",
              "    }\n",
              "</style>\n",
              "<table border=\"1\" class=\"dataframe\">\n",
              "  <thead>\n",
              "    <tr style=\"text-align: right;\">\n",
              "      <th></th>\n",
              "      <th>Clothing ID</th>\n",
              "      <th>Review Text</th>\n",
              "      <th>Age</th>\n",
              "      <th>Recommended IND</th>\n",
              "      <th>Filtered Reviews</th>\n",
              "      <th>Compound score</th>\n",
              "      <th>Sentiment category</th>\n",
              "      <th>id</th>\n",
              "      <th>y_test</th>\n",
              "      <th>y_predict</th>\n",
              "    </tr>\n",
              "  </thead>\n",
              "  <tbody>\n",
              "    <tr>\n",
              "      <th>0</th>\n",
              "      <td>1049</td>\n",
              "      <td>I love, love, love this jumpsuit. it's fun, fl...</td>\n",
              "      <td>50</td>\n",
              "      <td>1</td>\n",
              "      <td>[i love love love this jumpsuit it s fun flirt...</td>\n",
              "      <td>0.48</td>\n",
              "      <td>Positive</td>\n",
              "      <td>3</td>\n",
              "      <td>1</td>\n",
              "      <td>1</td>\n",
              "    </tr>\n",
              "    <tr>\n",
              "      <th>1</th>\n",
              "      <td>767</td>\n",
              "      <td>Bought the black xs to go under the larkspur m...</td>\n",
              "      <td>44</td>\n",
              "      <td>1</td>\n",
              "      <td>[bought the black xs to go under the larkspur ...</td>\n",
              "      <td>0.58</td>\n",
              "      <td>Positive</td>\n",
              "      <td>13</td>\n",
              "      <td>1</td>\n",
              "      <td>1</td>\n",
              "    </tr>\n",
              "    <tr>\n",
              "      <th>2</th>\n",
              "      <td>1065</td>\n",
              "      <td>I took these out of the package and wanted the...</td>\n",
              "      <td>47</td>\n",
              "      <td>1</td>\n",
              "      <td>[i took these out of the package and wanted th...</td>\n",
              "      <td>0.98</td>\n",
              "      <td>Positive</td>\n",
              "      <td>15</td>\n",
              "      <td>1</td>\n",
              "      <td>1</td>\n",
              "    </tr>\n",
              "    <tr>\n",
              "      <th>3</th>\n",
              "      <td>89</td>\n",
              "      <td>First, this is thermal ,so naturally i didn't ...</td>\n",
              "      <td>67</td>\n",
              "      <td>1</td>\n",
              "      <td>[first this is thermal so naturally i didn t e...</td>\n",
              "      <td>0.96</td>\n",
              "      <td>Positive</td>\n",
              "      <td>43</td>\n",
              "      <td>1</td>\n",
              "      <td>1</td>\n",
              "    </tr>\n",
              "    <tr>\n",
              "      <th>4</th>\n",
              "      <td>862</td>\n",
              "      <td>Really cute top! the embroidery on the collar ...</td>\n",
              "      <td>33</td>\n",
              "      <td>1</td>\n",
              "      <td>[really cute top the embroidery on the collar ...</td>\n",
              "      <td>0.97</td>\n",
              "      <td>Positive</td>\n",
              "      <td>49</td>\n",
              "      <td>1</td>\n",
              "      <td>1</td>\n",
              "    </tr>\n",
              "  </tbody>\n",
              "</table>\n",
              "</div>"
            ],
            "text/plain": [
              "   Clothing ID  ... y_predict\n",
              "0         1049  ...         1\n",
              "1          767  ...         1\n",
              "2         1065  ...         1\n",
              "3           89  ...         1\n",
              "4          862  ...         1\n",
              "\n",
              "[5 rows x 10 columns]"
            ]
          },
          "metadata": {},
          "execution_count": 24
        }
      ]
    },
    {
      "cell_type": "code",
      "metadata": {
        "colab": {
          "base_uri": "https://localhost:8080/"
        },
        "id": "sB4P7oIdmhYo",
        "outputId": "68a4aa5f-e439-481d-ffa1-6fa03823d625"
      },
      "source": [
        "spl = mismatch_df.sample(3)\n",
        "print(spl[['Clothing ID', 'id','y_test','y_predict']])\n",
        "print()\n",
        "print(spl.iloc[0]['Filtered Reviews'])"
      ],
      "execution_count": 25,
      "outputs": [
        {
          "output_type": "stream",
          "name": "stdout",
          "text": [
            "      Clothing ID     id  y_test  y_predict\n",
            "2376         1096  11270       1          1\n",
            "3354         1035  15943       1          1\n",
            "4139          862  19673       1          1\n",
            "\n",
            "['this dress could have been great but for me there was too much design on the top part front i wish the neckline was different or just less beadwork design near my face all in all its a maxi dress and was returned because approx was too much to spend on this']\n"
          ]
        }
      ]
    }
  ]
}